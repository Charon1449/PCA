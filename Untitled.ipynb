{
 "cells": [
  {
   "cell_type": "code",
   "execution_count": 7,
   "metadata": {},
   "outputs": [
    {
     "name": "stdout",
     "output_type": "stream",
     "text": [
      "[[26.  18. ]\n",
      " [18.  36.5]]\n"
     ]
    }
   ],
   "source": [
    "import numpy as np\n",
    "import pandas as pd\n",
    "from matplotlib import pyplot as plt \n",
    "import matplotlib.patches as mpatches\n",
    "\n",
    "\n",
    "x = np.matrix([[-8 ,-1],\n",
    "              [6 ,10],\n",
    "              [-2 ,-10],\n",
    "              [8 ,1],\n",
    "              [0 ,3],\n",
    "              [-6 ,-6],\n",
    "              [0 ,-3],\n",
    "              [2 ,6]])\n",
    "\n",
    "t = np.transpose(x)\n",
    "\n",
    "v = 1/8 * t.dot(x)\n",
    "\n",
    "print(v)\n",
    "\n",
    "\n",
    "\n",
    "# u = np.matrix([[0.6 ,0.8],\n",
    "#                [0.8 ,-0.6]])\n",
    "\n",
    "# x1 = x[: ,0]\n",
    "# x2 = x[: ,1]\n",
    "\n",
    "# v = x.dot(u)\n",
    "\n",
    "\n",
    "# v1 = v[: ,0]\n",
    "# v2 = v[: ,1]\n",
    "\n",
    "# plt.title(\"Exercice 1\") \n",
    "# plt.xlabel(\"x axis caption\") \n",
    "# plt.ylabel(\"y axis caption\") \n",
    "\n",
    "# red_patch = mpatches.Patch(color='red', label='le nuage des points individus')\n",
    "# plt.legend(handles=[red_patch])\n",
    "\n",
    "\n",
    "\n",
    "# plt.plot(x1 ,x2 ,\"ob\") #X en Bleu\n",
    "# plt.plot(v1 ,v2 ,\"or\") #V en Rouge\n",
    "# plt.savefig('exo1.png')\n",
    "\n",
    "\n",
    "\n",
    "\n",
    "\n",
    "\n"
   ]
  },
  {
   "cell_type": "code",
   "execution_count": null,
   "metadata": {},
   "outputs": [],
   "source": []
  }
 ],
 "metadata": {
  "kernelspec": {
   "display_name": "Python 3",
   "language": "python",
   "name": "python3"
  },
  "language_info": {
   "codemirror_mode": {
    "name": "ipython",
    "version": 3
   },
   "file_extension": ".py",
   "mimetype": "text/x-python",
   "name": "python",
   "nbconvert_exporter": "python",
   "pygments_lexer": "ipython3",
   "version": "3.9.1rc1"
  }
 },
 "nbformat": 4,
 "nbformat_minor": 4
}
