{
 "cells": [
  {
   "cell_type": "code",
   "execution_count": 50,
   "metadata": {},
   "outputs": [],
   "source": [
    "import numpy as np \n",
    "import pandas as pd\n",
    "from sklearn.preprocessing import StandardScaler\n",
    "import math\n",
    "import matplotlib.pyplot as plt\n",
    "\n",
    "\n"
   ]
  },
  {
   "cell_type": "code",
   "execution_count": 36,
   "metadata": {},
   "outputs": [
    {
     "data": {
      "text/html": [
       "<div>\n",
       "<style scoped>\n",
       "    .dataframe tbody tr th:only-of-type {\n",
       "        vertical-align: middle;\n",
       "    }\n",
       "\n",
       "    .dataframe tbody tr th {\n",
       "        vertical-align: top;\n",
       "    }\n",
       "\n",
       "    .dataframe thead th {\n",
       "        text-align: right;\n",
       "    }\n",
       "</style>\n",
       "<table border=\"1\" class=\"dataframe\">\n",
       "  <thead>\n",
       "    <tr style=\"text-align: right;\">\n",
       "      <th></th>\n",
       "      <th>A</th>\n",
       "      <th>B</th>\n",
       "      <th>C</th>\n",
       "      <th>D</th>\n",
       "      <th>E</th>\n",
       "      <th>F</th>\n",
       "    </tr>\n",
       "  </thead>\n",
       "  <tbody>\n",
       "    <tr>\n",
       "      <th>0</th>\n",
       "      <td>4.50570</td>\n",
       "      <td>3.260360</td>\n",
       "      <td>-1.249400</td>\n",
       "      <td>8.898070</td>\n",
       "      <td>8.059550</td>\n",
       "      <td>-0.842803</td>\n",
       "    </tr>\n",
       "    <tr>\n",
       "      <th>1</th>\n",
       "      <td>3.50856</td>\n",
       "      <td>1.660790</td>\n",
       "      <td>-1.856680</td>\n",
       "      <td>-2.573360</td>\n",
       "      <td>-1.373700</td>\n",
       "      <td>1.196000</td>\n",
       "    </tr>\n",
       "    <tr>\n",
       "      <th>2</th>\n",
       "      <td>4.44701</td>\n",
       "      <td>3.411940</td>\n",
       "      <td>-1.040870</td>\n",
       "      <td>10.271195</td>\n",
       "      <td>10.517256</td>\n",
       "      <td>0.272272</td>\n",
       "    </tr>\n",
       "    <tr>\n",
       "      <th>3</th>\n",
       "      <td>2.16003</td>\n",
       "      <td>3.146520</td>\n",
       "      <td>0.982809</td>\n",
       "      <td>9.024300</td>\n",
       "      <td>6.058320</td>\n",
       "      <td>-2.967420</td>\n",
       "    </tr>\n",
       "    <tr>\n",
       "      <th>4</th>\n",
       "      <td>2.35701</td>\n",
       "      <td>0.452589</td>\n",
       "      <td>-1.910680</td>\n",
       "      <td>12.984239</td>\n",
       "      <td>10.019605</td>\n",
       "      <td>-2.939020</td>\n",
       "    </tr>\n",
       "  </tbody>\n",
       "</table>\n",
       "</div>"
      ],
      "text/plain": [
       "         A         B         C          D          E         F\n",
       "0  4.50570  3.260360 -1.249400   8.898070   8.059550 -0.842803\n",
       "1  3.50856  1.660790 -1.856680  -2.573360  -1.373700  1.196000\n",
       "2  4.44701  3.411940 -1.040870  10.271195  10.517256  0.272272\n",
       "3  2.16003  3.146520  0.982809   9.024300   6.058320 -2.967420\n",
       "4  2.35701  0.452589 -1.910680  12.984239  10.019605 -2.939020"
      ]
     },
     "execution_count": 36,
     "metadata": {},
     "output_type": "execute_result"
    }
   ],
   "source": [
    "df = pd.read_csv('cot_pca.csv').head(15)\n",
    "df.head()"
   ]
  },
  {
   "cell_type": "code",
   "execution_count": 37,
   "metadata": {},
   "outputs": [
    {
     "data": {
      "text/plain": [
       "array([[ 1.42819222,  0.56929361, -0.87905584,  0.92519507,  1.01139943,\n",
       "        -0.17148812],\n",
       "       [ 0.9065634 , -0.13588549, -1.25129116, -1.54425819, -1.42318565,\n",
       "         0.71764616],\n",
       "       [ 1.39749001,  0.63611848, -0.75123633,  1.22078741,  1.64569772,\n",
       "         0.31480281],\n",
       "       [ 0.2011137 ,  0.51910663,  0.48918786,  0.95236858,  0.49491097,\n",
       "        -1.09804639],\n",
       "       [ 0.30415886, -0.66852745, -1.28439073,  1.80482407,  1.51726111,\n",
       "        -1.08566098]])"
      ]
     },
     "execution_count": 37,
     "metadata": {},
     "output_type": "execute_result"
    }
   ],
   "source": [
    "#rendre la matrice centrée\n",
    "X_scaled = StandardScaler().fit_transform(df)\n",
    "X_scaled[:5]"
   ]
  },
  {
   "cell_type": "code",
   "execution_count": 38,
   "metadata": {},
   "outputs": [
    {
     "data": {
      "text/plain": [
       "array([[ 1.07142857,  0.75387293, -0.2127804 ,  0.11212841,  0.08143182,\n",
       "        -0.0866215 ],\n",
       "       [ 0.75387293,  1.07142857,  0.59643271, -0.20370705, -0.23554047,\n",
       "         0.01866348],\n",
       "       [-0.2127804 ,  0.59643271,  1.07142857, -0.41146716, -0.4197786 ,\n",
       "         0.12637371],\n",
       "       [ 0.11212841, -0.20370705, -0.41146716,  1.07142857,  0.93276555,\n",
       "        -0.59432347],\n",
       "       [ 0.08143182, -0.23554047, -0.4197786 ,  0.93276555,  1.07142857,\n",
       "        -0.07882679]])"
      ]
     },
     "execution_count": 38,
     "metadata": {},
     "output_type": "execute_result"
    }
   ],
   "source": [
    "#calcule de la matrice des cov\n",
    "features = X_scaled.T\n",
    "cov_matrix = np.cov(features)\n",
    "cov_matrix[:5]"
   ]
  },
  {
   "cell_type": "code",
   "execution_count": 39,
   "metadata": {},
   "outputs": [
    {
     "data": {
      "text/plain": [
       "array([2.63851242e+00, 1.83150713e+00, 1.08502351e+00, 8.73492981e-01,\n",
       "       8.30518142e-06])"
      ]
     },
     "execution_count": 39,
     "metadata": {},
     "output_type": "execute_result"
    }
   ],
   "source": [
    "values, vectors = np.linalg.eig(cov_matrix)\n",
    "values[:5]"
   ]
  },
  {
   "cell_type": "code",
   "execution_count": 45,
   "metadata": {},
   "outputs": [
    {
     "data": {
      "text/plain": [
       "array([[-0.01591512, -0.68285699,  0.37942821,  0.26323957,  0.43732385,\n",
       "        -0.35908223],\n",
       "       [-0.33332888, -0.63864746, -0.04033882, -0.18370378, -0.51506158,\n",
       "         0.42468642],\n",
       "       [-0.44089055, -0.08272377, -0.49971497, -0.56115539,  0.37405215,\n",
       "        -0.30699654],\n",
       "       [ 0.57945508, -0.2207352 , -0.2040524 , -0.24180787, -0.45616518,\n",
       "        -0.5543579 ],\n",
       "       [ 0.52661251, -0.12470602,  0.18544461, -0.55998311,  0.38067451,\n",
       "         0.46286478],\n",
       "       [-0.28489502,  0.23391646,  0.72709345, -0.45826886, -0.22482139,\n",
       "        -0.27367504]])"
      ]
     },
     "execution_count": 45,
     "metadata": {},
     "output_type": "execute_result"
    }
   ],
   "source": [
    "vectors"
   ]
  },
  {
   "cell_type": "code",
   "execution_count": 41,
   "metadata": {},
   "outputs": [
    {
     "name": "stdout",
     "output_type": "stream",
     "text": [
      "1.0 \n",
      " [0.41043526464290997, 0.28490110862039997, 0.16878143519326688, 0.1358766860073315, 1.2919171105153983e-06, 4.213618981184036e-06]\n"
     ]
    }
   ],
   "source": [
    "explained_variances = []\n",
    "for i in range(len(values)):\n",
    "    explained_variances.append(values[i] / np.sum(values))\n",
    " \n",
    "print(np.sum(explained_variances), \"\\n\", explained_variances)"
   ]
  },
  {
   "cell_type": "code",
   "execution_count": 42,
   "metadata": {},
   "outputs": [
    {
     "data": {
      "text/html": [
       "<div>\n",
       "<style scoped>\n",
       "    .dataframe tbody tr th:only-of-type {\n",
       "        vertical-align: middle;\n",
       "    }\n",
       "\n",
       "    .dataframe tbody tr th {\n",
       "        vertical-align: top;\n",
       "    }\n",
       "\n",
       "    .dataframe thead th {\n",
       "        text-align: right;\n",
       "    }\n",
       "</style>\n",
       "<table border=\"1\" class=\"dataframe\">\n",
       "  <thead>\n",
       "    <tr style=\"text-align: right;\">\n",
       "      <th></th>\n",
       "      <th>PC1</th>\n",
       "      <th>PC2</th>\n",
       "    </tr>\n",
       "  </thead>\n",
       "  <tbody>\n",
       "    <tr>\n",
       "      <th>0</th>\n",
       "      <td>1.292656</td>\n",
       "      <td>-1.636575</td>\n",
       "    </tr>\n",
       "    <tr>\n",
       "      <th>1</th>\n",
       "      <td>-1.266200</td>\n",
       "      <td>0.257462</td>\n",
       "    </tr>\n",
       "    <tr>\n",
       "      <th>2</th>\n",
       "      <td>1.581286</td>\n",
       "      <td>-1.699458</td>\n",
       "    </tr>\n",
       "    <tr>\n",
       "      <th>3</th>\n",
       "      <td>0.733397</td>\n",
       "      <td>-1.038116</td>\n",
       "    </tr>\n",
       "    <tr>\n",
       "      <th>4</th>\n",
       "      <td>2.938397</td>\n",
       "      <td>-0.516048</td>\n",
       "    </tr>\n",
       "    <tr>\n",
       "      <th>5</th>\n",
       "      <td>-1.134272</td>\n",
       "      <td>2.437746</td>\n",
       "    </tr>\n",
       "    <tr>\n",
       "      <th>6</th>\n",
       "      <td>-2.919479</td>\n",
       "      <td>-2.477974</td>\n",
       "    </tr>\n",
       "    <tr>\n",
       "      <th>7</th>\n",
       "      <td>-2.302495</td>\n",
       "      <td>0.680928</td>\n",
       "    </tr>\n",
       "    <tr>\n",
       "      <th>8</th>\n",
       "      <td>0.485665</td>\n",
       "      <td>1.396723</td>\n",
       "    </tr>\n",
       "    <tr>\n",
       "      <th>9</th>\n",
       "      <td>-0.343126</td>\n",
       "      <td>0.577054</td>\n",
       "    </tr>\n",
       "    <tr>\n",
       "      <th>10</th>\n",
       "      <td>0.909388</td>\n",
       "      <td>1.296515</td>\n",
       "    </tr>\n",
       "    <tr>\n",
       "      <th>11</th>\n",
       "      <td>0.908161</td>\n",
       "      <td>0.053569</td>\n",
       "    </tr>\n",
       "    <tr>\n",
       "      <th>12</th>\n",
       "      <td>0.860032</td>\n",
       "      <td>0.821832</td>\n",
       "    </tr>\n",
       "    <tr>\n",
       "      <th>13</th>\n",
       "      <td>0.272034</td>\n",
       "      <td>0.778391</td>\n",
       "    </tr>\n",
       "    <tr>\n",
       "      <th>14</th>\n",
       "      <td>-2.015444</td>\n",
       "      <td>-0.932050</td>\n",
       "    </tr>\n",
       "  </tbody>\n",
       "</table>\n",
       "</div>"
      ],
      "text/plain": [
       "         PC1       PC2\n",
       "0   1.292656 -1.636575\n",
       "1  -1.266200  0.257462\n",
       "2   1.581286 -1.699458\n",
       "3   0.733397 -1.038116\n",
       "4   2.938397 -0.516048\n",
       "5  -1.134272  2.437746\n",
       "6  -2.919479 -2.477974\n",
       "7  -2.302495  0.680928\n",
       "8   0.485665  1.396723\n",
       "9  -0.343126  0.577054\n",
       "10  0.909388  1.296515\n",
       "11  0.908161  0.053569\n",
       "12  0.860032  0.821832\n",
       "13  0.272034  0.778391\n",
       "14 -2.015444 -0.932050"
      ]
     },
     "execution_count": 42,
     "metadata": {},
     "output_type": "execute_result"
    }
   ],
   "source": [
    "projected_1 = X_scaled.dot(vectors.T[0])\n",
    "projected_2 = X_scaled.dot(vectors.T[1])\n",
    "res = pd.DataFrame(projected_1, columns=['PC1'])\n",
    "res['PC2'] = projected_2\n",
    "res"
   ]
  },
  {
   "cell_type": "code",
   "execution_count": 52,
   "metadata": {
    "scrolled": true
   },
   "outputs": [
    {
     "data": {
      "image/png": "[encoded data removed]",
      "text/plain": [
       "<Figure size 432x288 with 1 Axes>"
      ]
     },
     "metadata": {
      "needs_background": "light"
     },
     "output_type": "display_data"
    }
   ],
   "source": [
    "var_contrib_list = list()\n",
    "for vect in vectors[0] :\n",
    "    var_contrib_list.append(math.pow(vect, 2))\n",
    "    \n",
    "plt.bar(list(df), var_contrib_list , align='center')\n",
    " \n",
    "plt.title('contribution des variables pour CP1')\n",
    "plt.ylabel('%Contributions')\n",
    " \n",
    "plt.show() "
   ]
  },
  {
   "cell_type": "code",
   "execution_count": 53,
   "metadata": {},
   "outputs": [
    {
     "data": {
      "image/png": "[encoded data removed]",
      "text/plain": [
       "<Figure size 432x288 with 1 Axes>"
      ]
     },
     "metadata": {
      "needs_background": "light"
     },
     "output_type": "display_data"
    }
   ],
   "source": [
    "var_contrib_list = list()\n",
    "for vect in vectors[1] :\n",
    "    var_contrib_list.append(math.pow(vect, 2))\n",
    "    \n",
    "plt.bar(list(df), var_contrib_list , align='center')\n",
    " \n",
    "plt.title('contribution des variables pour CP1')\n",
    "plt.ylabel('%Contributions')\n",
    " \n",
    "plt.show() "
   ]
  },
  {
   "cell_type": "code",
   "execution_count": null,
   "metadata": {},
   "outputs": [],
   "source": []
  }
 ],
 "metadata": {
  "kernelspec": {
   "display_name": "Python 3",
   "language": "python",
   "name": "python3"
  },
  "language_info": {
   "codemirror_mode": {
    "name": "ipython",
    "version": 3
   },
   "file_extension": ".py",
   "mimetype": "text/x-python",
   "name": "python",
   "nbconvert_exporter": "python",
   "pygments_lexer": "ipython3",
   "version": "3.9.1rc1"
  }
 },
 "nbformat": 4,
 "nbformat_minor": 4
}
